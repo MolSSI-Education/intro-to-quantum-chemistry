{
  "nbformat": 4,
  "nbformat_minor": 0,
  "metadata": {
    "colab": {
      "provenance": []
    },
    "kernelspec": {
      "name": "python3",
      "display_name": "Python 3"
    },
    "language_info": {
      "name": "python"
    }
  },
  "cells": [
    {
      "cell_type": "code",
      "source": [
        "# Install Psi4\n",
        "!pip install -q condacolab\n",
        "import condacolab\n",
        "condacolab.install()\n",
        "!mamba install -c conda-forge psi4 -y"
      ],
      "metadata": {
        "id": "axypRvw0QxDY"
      },
      "execution_count": null,
      "outputs": []
    },
    {
      "cell_type": "code",
      "execution_count": null,
      "metadata": {
        "id": "BNC1PATLQZ71"
      },
      "outputs": [],
      "source": [
        "import psi4\n",
        "\n",
        "# Specify the location of the output file\n",
        "psi4.core.set_output_file(\"psi4.out\", True)\n",
        "\n",
        "# Add your code here\n",
        "\n",
        "# Print the contents of the output file\n",
        "with open(\"psi4.out\", \"r\") as f:\n",
        "    print(f.read())"
      ]
    }
  ]
}
