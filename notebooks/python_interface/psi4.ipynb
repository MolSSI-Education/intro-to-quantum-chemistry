{
  "nbformat": 4,
  "nbformat_minor": 0,
  "metadata": {
    "colab": {
      "provenance": []
    },
    "kernelspec": {
      "name": "python3",
      "display_name": "Python 3"
    },
    "language_info": {
      "name": "python"
    }
  },
  "cells": [
    {
      "cell_type": "code",
      "execution_count": 1,
      "metadata": {
        "id": "4m9A46rGu19J"
      },
      "outputs": [],
      "source": [
        "%%bash\n",
        "set -euo pipefail\n",
        "\n",
        "MAMBA_ROOT=\"$HOME/mamba\"\n",
        "MAMBA_BIN=\"$MAMBA_ROOT/bin/micromamba\"\n",
        "if [ ! -x \"$MAMBA_BIN\" ]; then\n",
        "  mkdir -p \"$MAMBA_ROOT\"\n",
        "  curl -Ls https://micro.mamba.pm/api/micromamba/linux-64/latest | tar -xvj -C \"$MAMBA_ROOT\" bin/micromamba >/dev/null\n",
        "fi\n",
        "\n",
        "\"$MAMBA_BIN\" create -y -r \"$MAMBA_ROOT\" -n psi4 -c conda-forge psi4 python=3.12 >/dev/null"
      ]
    },
    {
      "cell_type": "code",
      "source": [
        "# <<<<<<<<<<<<<<<<<<<<<<<<<<<<<<<<<<<<\n",
        "# STUDENTS SHOULD IGNORE THESE LINES\n",
        "%%bash\n",
        "set -euo pipefail\n",
        "MAMBA_ROOT=\"$HOME/mamba\"\n",
        "MAMBA_BIN=\"$MAMBA_ROOT/bin/micromamba\"\n",
        "cat > psi4.in <<'EOF'\n",
        "# >>>>>>>>>>>>>>>>>>>>>>>>>>>>>>>>>>>>\n",
        "\n",
        "\n",
        "# Your input file should go in this middle section\n",
        "# Write this as a classic-style Psi4 input file (not a Python script)\n",
        "\n",
        "\n",
        "\n",
        "# <<<<<<<<<<<<<<<<<<<<<<<<<<<<<<<<<<<<\n",
        "# STUDENTS SHOULD IGNORE THESE LINES\n",
        "EOF\n",
        "\"$MAMBA_BIN\" run -r \"$MAMBA_ROOT\" -n psi4 psi4 psi4.in psi4.out\n",
        "cat psi4.out\n",
        "# >>>>>>>>>>>>>>>>>>>>>>>>>>>>>>>>>>>>\n"
      ],
      "metadata": {
        "id": "gNPy09URxly4"
      },
      "execution_count": null,
      "outputs": []
    }
  ]
}