{
  "nbformat": 4,
  "nbformat_minor": 0,
  "metadata": {
    "colab": {
      "provenance": []
    },
    "kernelspec": {
      "name": "python3",
      "display_name": "Python 3"
    },
    "language_info": {
      "name": "python"
    }
  },
  "cells": [
    {
      "cell_type": "code",
      "source": [
        "# Install Psi4\n",
        "!pip install -q condacolab\n",
        "import condacolab\n",
        "condacolab.install()\n",
        "!source /usr/local/etc/profile.d/conda.sh && conda activate base && conda install -c conda-forge psi4 -y"
      ],
      "metadata": {
        "id": "axypRvw0QxDY"
      },
      "execution_count": null,
      "outputs": []
    },
    {
      "cell_type": "code",
      "execution_count": null,
      "metadata": {
        "id": "BNC1PATLQZ71"
      },
      "outputs": [],
      "source": [
        "import psi4\n",
        "\n",
        "# Specify the location of the output file\n",
        "psi4.core.set_output_file(\"psi4.out\", True)\n",
        "\n",
        "# Specify the molecular geometry\n",
        "molecule = psi4.geometry(\"\"\"\n",
        "   H 0.0 0.0 0.0\n",
        "\"\"\")\n",
        "\n",
        "# Set some calculation options\n",
        "psi4.set_options({'reference': 'uhf',\n",
        "                  'basis': 'aug-cc-pVQZ'})\n",
        "\n",
        "# Compute the energy at the CCSD(T) level\n",
        "psi4.energy('CCSD(T)')\n",
        "\n",
        "# Print the contents of the output file\n",
        "with open(\"psi4.out\", \"r\") as f:\n",
        "    print(f.read())"
      ]
    }
  ]
}