{
  "nbformat": 4,
  "nbformat_minor": 0,
  "metadata": {
    "colab": {
      "provenance": []
    },
    "kernelspec": {
      "name": "python3",
      "display_name": "Python 3"
    },
    "language_info": {
      "name": "python"
    }
  },
  "cells": [
    {
      "cell_type": "code",
      "source": [
        "!pip install -q condacolab\n",
        "import condacolab\n",
        "condacolab.install()\n",
        "!mamba install -c conda-forge psi4 -y"
      ],
      "metadata": {
        "id": "axypRvw0QxDY"
      },
      "execution_count": null,
      "outputs": []
    },
    {
      "cell_type": "code",
      "execution_count": null,
      "metadata": {
        "id": "BNC1PATLQZ71"
      },
      "outputs": [],
      "source": [
        "import psi4\n",
        "\n",
        "# Specify location of output file\n",
        "psi4.core.set_output_file(\"psi4.out\", True)\n",
        "\n",
        "# Set up the molecule\n",
        "mol = psi4.geometry(\"\"\"\n",
        "0 1\n",
        "H\n",
        "H 1 0.74\n",
        "symmetry c1\n",
        "\"\"\")\n",
        "\n",
        "# Set computation options\n",
        "psi4.set_options({'reference': 'rhf'})\n",
        "\n",
        "# Run HF/aug-cc-pVDZ geometry optimization\n",
        "psi4.optimize('hf/aug-cc-pVDZ')\n",
        "\n",
        "# Print the contents of the output file\n",
        "with open(\"psi4.out\", \"r\") as f:\n",
        "    print(f.read())"
      ]
    }
  ]
}